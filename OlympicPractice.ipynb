{
 "cells": [
  {
   "cell_type": "code",
   "execution_count": 2,
   "id": "044ebc75",
   "metadata": {},
   "outputs": [],
   "source": [
    "import pandas as pd\n",
    "import numpy as np"
   ]
  },
  {
   "cell_type": "code",
   "execution_count": 3,
   "id": "e8f06e77",
   "metadata": {},
   "outputs": [],
   "source": [
    "athlete_bio = pd.read_csv('Olympic_Athlete_Bio.csv')\n",
    "event_results = pd.read_csv('Olympic_Athlete_Event_Results.csv')\n",
    "medal_tally = pd.read_csv('Olympic_Games_Medal_Tally.csv')\n",
    "results = pd.read_csv('Olympic_Results.csv')\n",
    "country = pd.read_csv('Olympics_Country.csv')\n",
    "games = pd.read_csv('Olympics_Games.csv')"
   ]
  },
  {
   "cell_type": "markdown",
   "id": "5deef5f8",
   "metadata": {},
   "source": [
    "# Number of Males and Females in US Team By Year"
   ]
  },
  {
   "cell_type": "code",
   "execution_count": 4,
   "id": "538ec149",
   "metadata": {},
   "outputs": [
    {
     "data": {
      "text/plain": [
       "Index(['edition', 'edition_id', 'country_noc', 'sport', 'event', 'result_id',\n",
       "       'athlete', 'athlete_id', 'pos', 'medal', 'isTeamSport'],\n",
       "      dtype='object')"
      ]
     },
     "execution_count": 4,
     "metadata": {},
     "output_type": "execute_result"
    }
   ],
   "source": [
    "event_results.columns"
   ]
  },
  {
   "cell_type": "code",
   "execution_count": 52,
   "id": "6d276cca",
   "metadata": {},
   "outputs": [
    {
     "data": {
      "text/plain": [
       "Index(['athlete_id', 'name', 'sex', 'born', 'height', 'weight', 'country',\n",
       "       'country_noc', 'description', 'special_notes'],\n",
       "      dtype='object')"
      ]
     },
     "execution_count": 52,
     "metadata": {},
     "output_type": "execute_result"
    }
   ],
   "source": [
    "athlete_bio.columns"
   ]
  },
  {
   "cell_type": "code",
   "execution_count": 53,
   "id": "23ce70f2",
   "metadata": {},
   "outputs": [
    {
     "data": {
      "text/plain": [
       "Male      114755\n",
       "Female     40276\n",
       "Name: sex, dtype: int64"
      ]
     },
     "execution_count": 53,
     "metadata": {},
     "output_type": "execute_result"
    }
   ],
   "source": [
    "athlete_bio['sex'].value_counts()"
   ]
  },
  {
   "cell_type": "code",
   "execution_count": 5,
   "id": "7505c259",
   "metadata": {},
   "outputs": [],
   "source": [
    "athlete = athlete_bio.merge(event_results, on = 'athlete_id')"
   ]
  },
  {
   "cell_type": "code",
   "execution_count": 55,
   "id": "d5505096",
   "metadata": {
    "scrolled": true
   },
   "outputs": [
    {
     "data": {
      "text/html": [
       "<div>\n",
       "<style scoped>\n",
       "    .dataframe tbody tr th:only-of-type {\n",
       "        vertical-align: middle;\n",
       "    }\n",
       "\n",
       "    .dataframe tbody tr th {\n",
       "        vertical-align: top;\n",
       "    }\n",
       "\n",
       "    .dataframe thead th {\n",
       "        text-align: right;\n",
       "    }\n",
       "</style>\n",
       "<table border=\"1\" class=\"dataframe\">\n",
       "  <thead>\n",
       "    <tr style=\"text-align: right;\">\n",
       "      <th></th>\n",
       "      <th>athlete_id</th>\n",
       "      <th>name</th>\n",
       "      <th>sex</th>\n",
       "      <th>born</th>\n",
       "      <th>height</th>\n",
       "      <th>weight</th>\n",
       "      <th>country</th>\n",
       "      <th>country_noc_x</th>\n",
       "      <th>description</th>\n",
       "      <th>special_notes</th>\n",
       "      <th>edition</th>\n",
       "      <th>edition_id</th>\n",
       "      <th>country_noc_y</th>\n",
       "      <th>sport</th>\n",
       "      <th>event</th>\n",
       "      <th>result_id</th>\n",
       "      <th>athlete</th>\n",
       "      <th>pos</th>\n",
       "      <th>medal</th>\n",
       "      <th>isTeamSport</th>\n",
       "    </tr>\n",
       "  </thead>\n",
       "  <tbody>\n",
       "    <tr>\n",
       "      <th>0</th>\n",
       "      <td>16809</td>\n",
       "      <td>Károly Teppert</td>\n",
       "      <td>Male</td>\n",
       "      <td>1891-07-20</td>\n",
       "      <td>na</td>\n",
       "      <td>na</td>\n",
       "      <td>Hungary</td>\n",
       "      <td>HUN</td>\n",
       "      <td>Károly Teppert started competing in cycling in...</td>\n",
       "      <td>na</td>\n",
       "      <td>1912 Summer Olympics</td>\n",
       "      <td>6</td>\n",
       "      <td>HUN</td>\n",
       "      <td>Cycling Road</td>\n",
       "      <td>Road Race, Individual, Men</td>\n",
       "      <td>153233</td>\n",
       "      <td>Károly Teppert</td>\n",
       "      <td>DNF</td>\n",
       "      <td>na</td>\n",
       "      <td>False</td>\n",
       "    </tr>\n",
       "    <tr>\n",
       "      <th>1</th>\n",
       "      <td>16809</td>\n",
       "      <td>Károly Teppert</td>\n",
       "      <td>Male</td>\n",
       "      <td>1891-07-20</td>\n",
       "      <td>na</td>\n",
       "      <td>na</td>\n",
       "      <td>Hungary</td>\n",
       "      <td>HUN</td>\n",
       "      <td>Károly Teppert started competing in cycling in...</td>\n",
       "      <td>na</td>\n",
       "      <td>1912 Summer Olympics</td>\n",
       "      <td>6</td>\n",
       "      <td>HUN</td>\n",
       "      <td>Cycling Road</td>\n",
       "      <td>Road Race, Team, Men</td>\n",
       "      <td>153234</td>\n",
       "      <td>Károly Teppert</td>\n",
       "      <td>12</td>\n",
       "      <td>na</td>\n",
       "      <td>True</td>\n",
       "    </tr>\n",
       "    <tr>\n",
       "      <th>2</th>\n",
       "      <td>43737</td>\n",
       "      <td>Andrzej Socharski</td>\n",
       "      <td>Male</td>\n",
       "      <td>1947-08-31</td>\n",
       "      <td>173.0</td>\n",
       "      <td>72</td>\n",
       "      <td>Poland</td>\n",
       "      <td>POL</td>\n",
       "      <td>na</td>\n",
       "      <td>Listed in Olympians Who Won a Medal at the Wor...</td>\n",
       "      <td>1976 Summer Olympics</td>\n",
       "      <td>19</td>\n",
       "      <td>POL</td>\n",
       "      <td>Shooting</td>\n",
       "      <td>Skeet, Open</td>\n",
       "      <td>51745</td>\n",
       "      <td>Andrzej Socharski</td>\n",
       "      <td>=14</td>\n",
       "      <td>na</td>\n",
       "      <td>False</td>\n",
       "    </tr>\n",
       "    <tr>\n",
       "      <th>3</th>\n",
       "      <td>50147</td>\n",
       "      <td>Nathalie Wunderlich</td>\n",
       "      <td>Female</td>\n",
       "      <td>1971-06-03</td>\n",
       "      <td>170.0</td>\n",
       "      <td>50</td>\n",
       "      <td>Switzerland</td>\n",
       "      <td>SUI</td>\n",
       "      <td>na</td>\n",
       "      <td>na</td>\n",
       "      <td>1992 Summer Olympics</td>\n",
       "      <td>23</td>\n",
       "      <td>SUI</td>\n",
       "      <td>Swimming</td>\n",
       "      <td>100 metres Backstroke, Women</td>\n",
       "      <td>7860</td>\n",
       "      <td>Nathalie Wunderlich</td>\n",
       "      <td>=32</td>\n",
       "      <td>na</td>\n",
       "      <td>False</td>\n",
       "    </tr>\n",
       "    <tr>\n",
       "      <th>4</th>\n",
       "      <td>50147</td>\n",
       "      <td>Nathalie Wunderlich</td>\n",
       "      <td>Female</td>\n",
       "      <td>1971-06-03</td>\n",
       "      <td>170.0</td>\n",
       "      <td>50</td>\n",
       "      <td>Switzerland</td>\n",
       "      <td>SUI</td>\n",
       "      <td>na</td>\n",
       "      <td>na</td>\n",
       "      <td>1992 Summer Olympics</td>\n",
       "      <td>23</td>\n",
       "      <td>SUI</td>\n",
       "      <td>Swimming</td>\n",
       "      <td>200 metres Backstroke, Women</td>\n",
       "      <td>7870</td>\n",
       "      <td>Nathalie Wunderlich</td>\n",
       "      <td>16</td>\n",
       "      <td>na</td>\n",
       "      <td>False</td>\n",
       "    </tr>\n",
       "  </tbody>\n",
       "</table>\n",
       "</div>"
      ],
      "text/plain": [
       "   athlete_id                 name     sex        born height weight  \\\n",
       "0       16809       Károly Teppert    Male  1891-07-20     na     na   \n",
       "1       16809       Károly Teppert    Male  1891-07-20     na     na   \n",
       "2       43737    Andrzej Socharski    Male  1947-08-31  173.0     72   \n",
       "3       50147  Nathalie Wunderlich  Female  1971-06-03  170.0     50   \n",
       "4       50147  Nathalie Wunderlich  Female  1971-06-03  170.0     50   \n",
       "\n",
       "        country country_noc_x  \\\n",
       "0       Hungary           HUN   \n",
       "1       Hungary           HUN   \n",
       "2        Poland           POL   \n",
       "3   Switzerland           SUI   \n",
       "4   Switzerland           SUI   \n",
       "\n",
       "                                         description  \\\n",
       "0  Károly Teppert started competing in cycling in...   \n",
       "1  Károly Teppert started competing in cycling in...   \n",
       "2                                                 na   \n",
       "3                                                 na   \n",
       "4                                                 na   \n",
       "\n",
       "                                       special_notes               edition  \\\n",
       "0                                                 na  1912 Summer Olympics   \n",
       "1                                                 na  1912 Summer Olympics   \n",
       "2  Listed in Olympians Who Won a Medal at the Wor...  1976 Summer Olympics   \n",
       "3                                                 na  1992 Summer Olympics   \n",
       "4                                                 na  1992 Summer Olympics   \n",
       "\n",
       "   edition_id country_noc_y         sport                         event  \\\n",
       "0           6           HUN  Cycling Road    Road Race, Individual, Men   \n",
       "1           6           HUN  Cycling Road          Road Race, Team, Men   \n",
       "2          19           POL      Shooting                   Skeet, Open   \n",
       "3          23           SUI      Swimming  100 metres Backstroke, Women   \n",
       "4          23           SUI      Swimming  200 metres Backstroke, Women   \n",
       "\n",
       "   result_id              athlete  pos medal  isTeamSport  \n",
       "0     153233       Károly Teppert  DNF    na        False  \n",
       "1     153234       Károly Teppert   12    na         True  \n",
       "2      51745    Andrzej Socharski  =14    na        False  \n",
       "3       7860  Nathalie Wunderlich  =32    na        False  \n",
       "4       7870  Nathalie Wunderlich   16    na        False  "
      ]
     },
     "execution_count": 55,
     "metadata": {},
     "output_type": "execute_result"
    }
   ],
   "source": [
    "athlete.head()"
   ]
  },
  {
   "cell_type": "code",
   "execution_count": 90,
   "id": "034a4f4d",
   "metadata": {},
   "outputs": [
    {
     "data": {
      "text/plain": [
       "edition               sex   \n",
       "1896 Summer Olympics  Male        20\n",
       "1900 Summer Olympics  Male        78\n",
       "                      Female       4\n",
       "1904 Summer Olympics  Male      1222\n",
       "                      Female       6\n",
       "                                ... \n",
       "2018 Winter Olympics  Female      55\n",
       "2020 Summer Olympics  Female     233\n",
       "                      Male       207\n",
       "2022 Winter Olympics  Male        73\n",
       "                      Female      51\n",
       "Name: sex, Length: 103, dtype: int64"
      ]
     },
     "execution_count": 90,
     "metadata": {},
     "output_type": "execute_result"
    }
   ],
   "source": [
    "athlete1 = athlete.drop_duplicates(subset = 'athlete_id')\n",
    "athlete1[athlete1['country_noc_x'] == 'USA'].groupby(by=['edition'])['sex'].value_counts()"
   ]
  },
  {
   "cell_type": "markdown",
   "id": "b8556eb1",
   "metadata": {},
   "source": [
    "# Number of Athletes by:"
   ]
  },
  {
   "cell_type": "code",
   "execution_count": 65,
   "id": "acf0820d",
   "metadata": {},
   "outputs": [],
   "source": [
    "# Country"
   ]
  },
  {
   "cell_type": "code",
   "execution_count": 58,
   "id": "11071dea",
   "metadata": {},
   "outputs": [
    {
     "data": {
      "text/plain": [
       "USA    11651\n",
       "FRA     7349\n",
       "GBR     6955\n",
       "CAN     5556\n",
       "ITA     5540\n",
       "       ...  \n",
       "WIF        6\n",
       "YMD        5\n",
       "SSD        3\n",
       "NBO        2\n",
       "IFR        2\n",
       "Name: country_noc, Length: 232, dtype: int64"
      ]
     },
     "execution_count": 58,
     "metadata": {},
     "output_type": "execute_result"
    }
   ],
   "source": [
    "athlete_bio['country_noc'].value_counts()"
   ]
  },
  {
   "cell_type": "code",
   "execution_count": null,
   "id": "721a9ba1",
   "metadata": {},
   "outputs": [],
   "source": [
    "# Sport"
   ]
  },
  {
   "cell_type": "code",
   "execution_count": 6,
   "id": "03e22c8d",
   "metadata": {},
   "outputs": [
    {
     "data": {
      "text/plain": [
       "Athletics          25025\n",
       "Swimming            9606\n",
       "Football            8486\n",
       "Rowing              8115\n",
       "Boxing              5835\n",
       "                   ...  \n",
       "Racquets               5\n",
       "Skijoring              5\n",
       "Roque                  4\n",
       "Canne De Combat        2\n",
       "Aeronautics            1\n",
       "Name: sport, Length: 108, dtype: int64"
      ]
     },
     "execution_count": 6,
     "metadata": {},
     "output_type": "execute_result"
    }
   ],
   "source": [
    "athlete_sport = athlete.drop_duplicates(subset=\"athlete_id\")\n",
    "athlete_sport['sport'].value_counts()"
   ]
  },
  {
   "cell_type": "code",
   "execution_count": 66,
   "id": "93d48e11",
   "metadata": {},
   "outputs": [],
   "source": [
    "# Edition (unique by edition needs to be fixed)"
   ]
  },
  {
   "cell_type": "code",
   "execution_count": 64,
   "id": "36a7d2a5",
   "metadata": {},
   "outputs": [
    {
     "data": {
      "text/plain": [
       "edition_id  edition_id\n",
       "1           1               619\n",
       "2           2              3147\n",
       "3           3              3075\n",
       "4           4                23\n",
       "5           5              4024\n",
       "6           6              5424\n",
       "7           7              4639\n",
       "8           8              6432\n",
       "9           9              5752\n",
       "10          10             3294\n",
       "11          11             7336\n",
       "12          12             7125\n",
       "13          13             9261\n",
       "14          14             5306\n",
       "15          15             8546\n",
       "16          16             8202\n",
       "17          17             9231\n",
       "18          18            10903\n",
       "19          19             8989\n",
       "20          20             7499\n",
       "21          21            10110\n",
       "22          22            12780\n",
       "23          23            13485\n",
       "24          24            13994\n",
       "25          25            14032\n",
       "26          26            13756\n",
       "29          29              633\n",
       "30          30              642\n",
       "31          31              790\n",
       "32          32             1193\n",
       "33          33             1134\n",
       "34          34             1133\n",
       "35          35             1344\n",
       "36          36             1134\n",
       "37          37             1903\n",
       "38          38             1943\n",
       "39          39             1683\n",
       "40          40             1880\n",
       "41          41             1768\n",
       "42          42             2178\n",
       "43          43             3166\n",
       "44          44             3713\n",
       "45          45             3225\n",
       "46          46             3698\n",
       "47          47             4127\n",
       "48          48              300\n",
       "49          49             4403\n",
       "53          53            13975\n",
       "54          54            13196\n",
       "57          57             4467\n",
       "58          58             4984\n",
       "59          59            13941\n",
       "60          60             5196\n",
       "61          61            14786\n",
       "62          62             5388\n",
       "Name: edition_id, dtype: int64"
      ]
     },
     "execution_count": 64,
     "metadata": {},
     "output_type": "execute_result"
    }
   ],
   "source": [
    "edition = event_results.groupby(by='edition_id')\n",
    "edition['edition_id'].value_counts()"
   ]
  },
  {
   "cell_type": "code",
   "execution_count": 19,
   "id": "ba04032d",
   "metadata": {},
   "outputs": [],
   "source": [
    "# Medal"
   ]
  },
  {
   "cell_type": "code",
   "execution_count": 65,
   "id": "ffd78c4c",
   "metadata": {},
   "outputs": [
    {
     "data": {
      "text/plain": [
       "Bronze    11326\n",
       "Silver    10594\n",
       "Gold       9578\n",
       "Name: medal, dtype: int64"
      ]
     },
     "execution_count": 65,
     "metadata": {},
     "output_type": "execute_result"
    }
   ],
   "source": [
    "medal = event_results.replace(to_replace = 'na', value = np.nan)\n",
    "medal = medal.dropna()\n",
    "medal = medal.drop_duplicates(subset='athlete_id')\n",
    "medal['medal'].value_counts()"
   ]
  },
  {
   "cell_type": "markdown",
   "id": "9c6ce070",
   "metadata": {},
   "source": [
    "# Number of Athletes who won a metal in 2018 and 2022"
   ]
  },
  {
   "cell_type": "code",
   "execution_count": 24,
   "id": "471b8505",
   "metadata": {},
   "outputs": [
    {
     "data": {
      "text/plain": [
       "Index(['edition', 'edition_id', 'country_noc', 'sport', 'event', 'result_id',\n",
       "       'athlete', 'athlete_id', 'pos', 'medal', 'isTeamSport'],\n",
       "      dtype='object')"
      ]
     },
     "execution_count": 24,
     "metadata": {},
     "output_type": "execute_result"
    }
   ],
   "source": [
    "event_results.columns"
   ]
  },
  {
   "cell_type": "code",
   "execution_count": 48,
   "id": "fd661231",
   "metadata": {},
   "outputs": [
    {
     "data": {
      "text/plain": [
       "2020 Summer Olympics        14786\n",
       "2000 Summer Olympics        14032\n",
       "1996 Summer Olympics        13994\n",
       "2008 Summer Olympics        13975\n",
       "2016 Summer Olympics        13941\n",
       "2004 Summer Olympics        13756\n",
       "1992 Summer Olympics        13485\n",
       "2012 Summer Olympics        13196\n",
       "1988 Summer Olympics        12780\n",
       "1972 Summer Olympics        10903\n",
       "1984 Summer Olympics        10110\n",
       "1952 Summer Olympics         9261\n",
       "1968 Summer Olympics         9231\n",
       "1976 Summer Olympics         8989\n",
       "1960 Summer Olympics         8546\n",
       "1964 Summer Olympics         8202\n",
       "1980 Summer Olympics         7499\n",
       "1936 Summer Olympics         7336\n",
       "1948 Summer Olympics         7125\n",
       "1924 Summer Olympics         6432\n",
       "1928 Summer Olympics         5752\n",
       "1912 Summer Olympics         5424\n",
       "2022 Winter Olympics         5388\n",
       "1956 Summer Olympics         5306\n",
       "2018 Winter Olympics         5196\n",
       "2014 Winter Olympics         4984\n",
       "1920 Summer Olympics         4639\n",
       "2010 Winter Olympics         4467\n",
       "2006 Winter Olympics         4403\n",
       "2002 Winter Olympics         4127\n",
       "1908 Summer Olympics         4024\n",
       "1992 Winter Olympics         3713\n",
       "1998 Winter Olympics         3698\n",
       "1932 Summer Olympics         3294\n",
       "1994 Winter Olympics         3225\n",
       "1988 Winter Olympics         3166\n",
       "1900 Summer Olympics         3147\n",
       "1904 Summer Olympics         3075\n",
       "1984 Winter Olympics         2178\n",
       "1968 Winter Olympics         1943\n",
       "1964 Winter Olympics         1903\n",
       "1976 Winter Olympics         1880\n",
       "1980 Winter Olympics         1768\n",
       "1972 Winter Olympics         1683\n",
       "1956 Winter Olympics         1344\n",
       "1936 Winter Olympics         1193\n",
       "1948 Winter Olympics         1134\n",
       "1960 Winter Olympics         1134\n",
       "1952 Winter Olympics         1133\n",
       "1932 Winter Olympics          790\n",
       "1928 Winter Olympics          642\n",
       "1924 Winter Olympics          633\n",
       "1896 Summer Olympics          619\n",
       "1956 Equestrian Olympics      300\n",
       "1906  Intercalated Games       23\n",
       "Name: edition, dtype: int64"
      ]
     },
     "execution_count": 48,
     "metadata": {},
     "output_type": "execute_result"
    }
   ],
   "source": [
    "\n",
    "event_results['edition'].value_counts()"
   ]
  },
  {
   "cell_type": "code",
   "execution_count": 61,
   "id": "8d304170",
   "metadata": {},
   "outputs": [
    {
     "name": "stderr",
     "output_type": "stream",
     "text": [
      "/var/folders/4b/_7084_nj2w5gwdmch9vv6l_w0000gn/T/ipykernel_83646/1084274909.py:2: UserWarning: Boolean Series key will be reindexed to match DataFrame index.\n",
      "  event_1822 = event_1822[event_results['edition_id'] != 61]\n",
      "/var/folders/4b/_7084_nj2w5gwdmch9vv6l_w0000gn/T/ipykernel_83646/1084274909.py:3: UserWarning: Boolean Series key will be reindexed to match DataFrame index.\n",
      "  event_1822 = event_1822[event_results['medal'] != 'na']\n"
     ]
    },
    {
     "data": {
      "text/html": [
       "<div>\n",
       "<style scoped>\n",
       "    .dataframe tbody tr th:only-of-type {\n",
       "        vertical-align: middle;\n",
       "    }\n",
       "\n",
       "    .dataframe tbody tr th {\n",
       "        vertical-align: top;\n",
       "    }\n",
       "\n",
       "    .dataframe thead th {\n",
       "        text-align: right;\n",
       "    }\n",
       "</style>\n",
       "<table border=\"1\" class=\"dataframe\">\n",
       "  <thead>\n",
       "    <tr style=\"text-align: right;\">\n",
       "      <th></th>\n",
       "      <th>edition</th>\n",
       "      <th>edition_id</th>\n",
       "      <th>country_noc</th>\n",
       "      <th>sport</th>\n",
       "      <th>event</th>\n",
       "      <th>result_id</th>\n",
       "      <th>athlete</th>\n",
       "      <th>athlete_id</th>\n",
       "      <th>pos</th>\n",
       "      <th>medal</th>\n",
       "      <th>isTeamSport</th>\n",
       "    </tr>\n",
       "  </thead>\n",
       "  <tbody>\n",
       "    <tr>\n",
       "      <th>6677</th>\n",
       "      <td>2018 Winter Olympics</td>\n",
       "      <td>60</td>\n",
       "      <td>BLR</td>\n",
       "      <td>Biathlon</td>\n",
       "      <td>12.5 kilometres Mass Start, Women</td>\n",
       "      <td>9000227</td>\n",
       "      <td>Daria Domrachava</td>\n",
       "      <td>118516</td>\n",
       "      <td>2</td>\n",
       "      <td>Silver</td>\n",
       "      <td>False</td>\n",
       "    </tr>\n",
       "    <tr>\n",
       "      <th>6684</th>\n",
       "      <td>2018 Winter Olympics</td>\n",
       "      <td>60</td>\n",
       "      <td>BLR</td>\n",
       "      <td>Biathlon</td>\n",
       "      <td>4 × 6 kilometres Relay, Women</td>\n",
       "      <td>9000229</td>\n",
       "      <td>Nadzeya Skardzina</td>\n",
       "      <td>118564</td>\n",
       "      <td>1</td>\n",
       "      <td>Gold</td>\n",
       "      <td>True</td>\n",
       "    </tr>\n",
       "    <tr>\n",
       "      <th>6685</th>\n",
       "      <td>2018 Winter Olympics</td>\n",
       "      <td>60</td>\n",
       "      <td>BLR</td>\n",
       "      <td>Biathlon</td>\n",
       "      <td>4 × 6 kilometres Relay, Women</td>\n",
       "      <td>9000229</td>\n",
       "      <td>Iryna Kryuko</td>\n",
       "      <td>136768</td>\n",
       "      <td>1</td>\n",
       "      <td>Gold</td>\n",
       "      <td>True</td>\n",
       "    </tr>\n",
       "    <tr>\n",
       "      <th>6686</th>\n",
       "      <td>2018 Winter Olympics</td>\n",
       "      <td>60</td>\n",
       "      <td>BLR</td>\n",
       "      <td>Biathlon</td>\n",
       "      <td>4 × 6 kilometres Relay, Women</td>\n",
       "      <td>9000229</td>\n",
       "      <td>Dzinara Alimbekava</td>\n",
       "      <td>136767</td>\n",
       "      <td>1</td>\n",
       "      <td>Gold</td>\n",
       "      <td>True</td>\n",
       "    </tr>\n",
       "    <tr>\n",
       "      <th>6687</th>\n",
       "      <td>2018 Winter Olympics</td>\n",
       "      <td>60</td>\n",
       "      <td>BLR</td>\n",
       "      <td>Biathlon</td>\n",
       "      <td>4 × 6 kilometres Relay, Women</td>\n",
       "      <td>9000229</td>\n",
       "      <td>Daria Domrachava</td>\n",
       "      <td>118516</td>\n",
       "      <td>1</td>\n",
       "      <td>Gold</td>\n",
       "      <td>True</td>\n",
       "    </tr>\n",
       "    <tr>\n",
       "      <th>...</th>\n",
       "      <td>...</td>\n",
       "      <td>...</td>\n",
       "      <td>...</td>\n",
       "      <td>...</td>\n",
       "      <td>...</td>\n",
       "      <td>...</td>\n",
       "      <td>...</td>\n",
       "      <td>...</td>\n",
       "      <td>...</td>\n",
       "      <td>...</td>\n",
       "      <td>...</td>\n",
       "    </tr>\n",
       "    <tr>\n",
       "      <th>314877</th>\n",
       "      <td>2022 Winter Olympics</td>\n",
       "      <td>62</td>\n",
       "      <td>USA</td>\n",
       "      <td>Speed Skating</td>\n",
       "      <td>500 metres, Women</td>\n",
       "      <td>19020424</td>\n",
       "      <td>Erin Jackson</td>\n",
       "      <td>138378</td>\n",
       "      <td>1</td>\n",
       "      <td>Gold</td>\n",
       "      <td>False</td>\n",
       "    </tr>\n",
       "    <tr>\n",
       "      <th>314880</th>\n",
       "      <td>2022 Winter Olympics</td>\n",
       "      <td>62</td>\n",
       "      <td>USA</td>\n",
       "      <td>Speed Skating</td>\n",
       "      <td>1,000 metres, Women</td>\n",
       "      <td>19020425</td>\n",
       "      <td>Brittany Bowe</td>\n",
       "      <td>128778</td>\n",
       "      <td>3</td>\n",
       "      <td>Bronze</td>\n",
       "      <td>False</td>\n",
       "    </tr>\n",
       "    <tr>\n",
       "      <th>314887</th>\n",
       "      <td>2022 Winter Olympics</td>\n",
       "      <td>62</td>\n",
       "      <td>USA</td>\n",
       "      <td>Bobsleigh</td>\n",
       "      <td>Monobob, Women</td>\n",
       "      <td>19019671</td>\n",
       "      <td>Kaillie Humphries</td>\n",
       "      <td>118672</td>\n",
       "      <td>1</td>\n",
       "      <td>Gold</td>\n",
       "      <td>False</td>\n",
       "    </tr>\n",
       "    <tr>\n",
       "      <th>314888</th>\n",
       "      <td>2022 Winter Olympics</td>\n",
       "      <td>62</td>\n",
       "      <td>USA</td>\n",
       "      <td>Bobsleigh</td>\n",
       "      <td>Monobob, Women</td>\n",
       "      <td>19019671</td>\n",
       "      <td>Elana Meyers Taylor</td>\n",
       "      <td>118644</td>\n",
       "      <td>2</td>\n",
       "      <td>Silver</td>\n",
       "      <td>False</td>\n",
       "    </tr>\n",
       "    <tr>\n",
       "      <th>314889</th>\n",
       "      <td>2022 Winter Olympics</td>\n",
       "      <td>62</td>\n",
       "      <td>CAN</td>\n",
       "      <td>Bobsleigh</td>\n",
       "      <td>Monobob, Women</td>\n",
       "      <td>19019671</td>\n",
       "      <td>Christine de Bruin</td>\n",
       "      <td>136825</td>\n",
       "      <td>3</td>\n",
       "      <td>Bronze</td>\n",
       "      <td>False</td>\n",
       "    </tr>\n",
       "  </tbody>\n",
       "</table>\n",
       "<p>1395 rows × 11 columns</p>\n",
       "</div>"
      ],
      "text/plain": [
       "                     edition  edition_id country_noc          sport  \\\n",
       "6677    2018 Winter Olympics          60         BLR       Biathlon   \n",
       "6684    2018 Winter Olympics          60         BLR       Biathlon   \n",
       "6685    2018 Winter Olympics          60         BLR       Biathlon   \n",
       "6686    2018 Winter Olympics          60         BLR       Biathlon   \n",
       "6687    2018 Winter Olympics          60         BLR       Biathlon   \n",
       "...                      ...         ...         ...            ...   \n",
       "314877  2022 Winter Olympics          62         USA  Speed Skating   \n",
       "314880  2022 Winter Olympics          62         USA  Speed Skating   \n",
       "314887  2022 Winter Olympics          62         USA      Bobsleigh   \n",
       "314888  2022 Winter Olympics          62         USA      Bobsleigh   \n",
       "314889  2022 Winter Olympics          62         CAN      Bobsleigh   \n",
       "\n",
       "                                    event  result_id              athlete  \\\n",
       "6677    12.5 kilometres Mass Start, Women    9000227     Daria Domrachava   \n",
       "6684        4 × 6 kilometres Relay, Women    9000229    Nadzeya Skardzina   \n",
       "6685        4 × 6 kilometres Relay, Women    9000229         Iryna Kryuko   \n",
       "6686        4 × 6 kilometres Relay, Women    9000229   Dzinara Alimbekava   \n",
       "6687        4 × 6 kilometres Relay, Women    9000229     Daria Domrachava   \n",
       "...                                   ...        ...                  ...   \n",
       "314877                  500 metres, Women   19020424         Erin Jackson   \n",
       "314880                1,000 metres, Women   19020425        Brittany Bowe   \n",
       "314887                     Monobob, Women   19019671    Kaillie Humphries   \n",
       "314888                     Monobob, Women   19019671  Elana Meyers Taylor   \n",
       "314889                     Monobob, Women   19019671   Christine de Bruin   \n",
       "\n",
       "        athlete_id pos   medal  isTeamSport  \n",
       "6677        118516   2  Silver        False  \n",
       "6684        118564   1    Gold         True  \n",
       "6685        136768   1    Gold         True  \n",
       "6686        136767   1    Gold         True  \n",
       "6687        118516   1    Gold         True  \n",
       "...            ...  ..     ...          ...  \n",
       "314877      138378   1    Gold        False  \n",
       "314880      128778   3  Bronze        False  \n",
       "314887      118672   1    Gold        False  \n",
       "314888      118644   2  Silver        False  \n",
       "314889      136825   3  Bronze        False  \n",
       "\n",
       "[1395 rows x 11 columns]"
      ]
     },
     "execution_count": 61,
     "metadata": {},
     "output_type": "execute_result"
    }
   ],
   "source": [
    "event_1822 = event_results[event_results['edition_id'] > 59]\n",
    "event_1822 = event_1822[event_results['edition_id'] != 61]\n",
    "event_1822 = event_1822[event_results['medal'] != 'na']\n",
    "event_1822"
   ]
  },
  {
   "cell_type": "code",
   "execution_count": 73,
   "id": "69872ffa",
   "metadata": {},
   "outputs": [
    {
     "data": {
      "text/plain": [
       "(1395, 11)"
      ]
     },
     "execution_count": 73,
     "metadata": {},
     "output_type": "execute_result"
    }
   ],
   "source": [
    "event_1822.shape"
   ]
  },
  {
   "cell_type": "markdown",
   "id": "9ca26e3f",
   "metadata": {},
   "source": [
    "# Number of Male and Female Athletes in the 2022 Olympics in the Following:"
   ]
  },
  {
   "cell_type": "code",
   "execution_count": 74,
   "id": "8858227b",
   "metadata": {},
   "outputs": [],
   "source": [
    "# sailing"
   ]
  },
  {
   "cell_type": "code",
   "execution_count": 82,
   "id": "b386c1d7",
   "metadata": {},
   "outputs": [
    {
     "data": {
      "text/plain": [
       "Male      175\n",
       "Female    175\n",
       "Name: sex, dtype: int64"
      ]
     },
     "execution_count": 82,
     "metadata": {},
     "output_type": "execute_result"
    }
   ],
   "source": [
    "sailing_22 = athlete[athlete['edition_id'] >= 61]\n",
    "sailing_22 = sailing_22.drop_duplicates(subset=['athlete_id'])\n",
    "sailing_22 = sailing_22[sailing_22['sport'] == 'Sailing']\n",
    "sailing_22['sex'].value_counts()"
   ]
  },
  {
   "cell_type": "code",
   "execution_count": 78,
   "id": "ac815a42",
   "metadata": {},
   "outputs": [],
   "source": [
    "#shooting"
   ]
  },
  {
   "cell_type": "code",
   "execution_count": 85,
   "id": "118d33dd",
   "metadata": {},
   "outputs": [
    {
     "data": {
      "text/plain": [
       "Male      7579\n",
       "Female    6814\n",
       "Name: sex, dtype: int64"
      ]
     },
     "execution_count": 85,
     "metadata": {},
     "output_type": "execute_result"
    }
   ],
   "source": [
    "sh_22 = athlete[athlete['edition_id'] >= 61]\n",
    "sh_22 = sh_22.drop_duplicates(subset=['athlete_id'])\n",
    "sh_22 = sh_22[sh_22['sport'] == 'Shooting']\n",
    "sh['sex'].value_counts()"
   ]
  },
  {
   "cell_type": "code",
   "execution_count": null,
   "id": "05c81c4b",
   "metadata": {},
   "outputs": [],
   "source": []
  }
 ],
 "metadata": {
  "kernelspec": {
   "display_name": "Python 3 (ipykernel)",
   "language": "python",
   "name": "python3"
  },
  "language_info": {
   "codemirror_mode": {
    "name": "ipython",
    "version": 3
   },
   "file_extension": ".py",
   "mimetype": "text/x-python",
   "name": "python",
   "nbconvert_exporter": "python",
   "pygments_lexer": "ipython3",
   "version": "3.9.13"
  }
 },
 "nbformat": 4,
 "nbformat_minor": 5
}
